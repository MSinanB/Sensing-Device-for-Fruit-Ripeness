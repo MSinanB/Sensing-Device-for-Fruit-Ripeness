{
  "nbformat": 4,
  "nbformat_minor": 0,
  "metadata": {
    "colab": {
      "name": "MIE1453_Group3_Final_Project.ipynb",
      "provenance": [],
      "collapsed_sections": []
    },
    "kernelspec": {
      "name": "python3",
      "display_name": "Python 3"
    }
  },
  "cells": [
    {
      "cell_type": "code",
      "metadata": {
        "id": "JQsTVMFrwFxn",
        "colab_type": "code",
        "outputId": "3bf96bf6-8557-4c18-9766-e8891b188c50",
        "colab": {
          "base_uri": "https://localhost:8080/",
          "height": 34
        }
      },
      "source": [
        "import numpy as np\n",
        "import sklearn \n",
        "import pandas as pd\n",
        "from sklearn import neighbors\n",
        "from sklearn.metrics import accuracy_score\n",
        "from sklearn.model_selection import cross_val_score\n",
        "from sklearn.model_selection import train_test_split\n",
        "\n",
        "np.random.seed(10) #set random seed for repeatable results\n",
        "mu, sigma = 30, 5.3\n",
        "\n",
        "#generate unripe data\n",
        "unripe_data = np.array([np.random.normal(mu, sigma, 200),np.random.normal(57.3, 3.06, 200),np.random.normal(23.67, 3.79, 200),np.full((200,),0,dtype=int)])\n",
        "np.std(unripe_data), np.mean(unripe_data)\n",
        "unripe_transposed = unripe_data.transpose()\n",
        "unripe_transposed.shape #check shape\n",
        "unripe_transposed[:,2].mean() #check means\n",
        "\n",
        "#generate ripe data\n",
        "ripe_data = np.array([np.random.normal(35.61, 5.53, 200),np.random.normal(245.29, 51.38, 200),np.random.normal(40, 5.81, 200),np.full((200,),1,dtype=int)])\n",
        "ripe_transposed = ripe_data.transpose()\n",
        "\n",
        "#generate rotten data\n",
        "rotten_data = np.array([np.random.normal(38.7, 5.26, 200),np.random.normal(344.46, 58.64, 200),np.random.normal(48.4, 6.24, 200),np.full((200,),2,dtype=int)])\n",
        "rotten_transposed = rotten_data.transpose()\n",
        "\n",
        "#merge data\n",
        "total_data = np.vstack((unripe_transposed,ripe_transposed,rotten_transposed))\n",
        "total_data.shape"
      ],
      "execution_count": 0,
      "outputs": [
        {
          "output_type": "execute_result",
          "data": {
            "text/plain": [
              "(600, 4)"
            ]
          },
          "metadata": {
            "tags": []
          },
          "execution_count": 16
        }
      ]
    },
    {
      "cell_type": "code",
      "metadata": {
        "id": "1GQliTnz8Luy",
        "colab_type": "code",
        "outputId": "43c12cee-4b60-465e-d366-d103a207881f",
        "colab": {
          "base_uri": "https://localhost:8080/",
          "height": 134
        }
      },
      "source": [
        "total_data #display total data"
      ],
      "execution_count": 0,
      "outputs": [
        {
          "output_type": "execute_result",
          "data": {
            "text/plain": [
              "array([[ 37.05740847,  57.70740074,  25.42244124,   0.        ],\n",
              "       [ 33.79097856,  60.98039625,  19.04674753,   0.        ],\n",
              "       [ 21.80937845,  54.16425592,  24.39985106,   0.        ],\n",
              "       ...,\n",
              "       [ 42.73420602, 269.96875715,  49.88749687,   2.        ],\n",
              "       [ 40.60310314, 322.95280019,  48.47711512,   2.        ],\n",
              "       [ 41.87325782, 260.52469161,  44.99097768,   2.        ]])"
            ]
          },
          "metadata": {
            "tags": []
          },
          "execution_count": 17
        }
      ]
    },
    {
      "cell_type": "code",
      "metadata": {
        "id": "cM4Vz7t5EYwL",
        "colab_type": "code",
        "outputId": "c14b7d2c-5712-40b9-c68c-fc0a6e8c9208",
        "colab": {
          "base_uri": "https://localhost:8080/",
          "height": 134
        }
      },
      "source": [
        "#shuffle dataset\n",
        "total_data_mixed = np.random.RandomState(seed=42).permutation(total_data)\n",
        "total_data_mixed"
      ],
      "execution_count": 0,
      "outputs": [
        {
          "output_type": "execute_result",
          "data": {
            "text/plain": [
              "array([[ 31.55258584,  65.50052554,  22.44824236,   0.        ],\n",
              "       [ 35.66513613, 313.19473102,  54.71417327,   2.        ],\n",
              "       [ 38.27772415, 285.60861945,  41.49400562,   2.        ],\n",
              "       ...,\n",
              "       [ 28.4811404 , 190.9043477 ,  42.79870512,   1.        ],\n",
              "       [ 39.25830545, 434.85551737,  43.10904701,   2.        ],\n",
              "       [ 25.1085809 ,  56.56573373,  27.16180443,   0.        ]])"
            ]
          },
          "metadata": {
            "tags": []
          },
          "execution_count": 18
        }
      ]
    },
    {
      "cell_type": "code",
      "metadata": {
        "id": "_EIHwwVh-TA1",
        "colab_type": "code",
        "outputId": "02fd6290-ac97-4bb2-8770-1977c22c41a1",
        "colab": {
          "base_uri": "https://localhost:8080/",
          "height": 343
        }
      },
      "source": [
        "#generate pandas dataframe from dataset\n",
        "df = pd.DataFrame(total_data_mixed,\n",
        "                   columns=['MQ-135', 'MQ-3', 'MQ-2','Class'])\n",
        "df.head(10) #display first 10 rows of dataframe"
      ],
      "execution_count": 0,
      "outputs": [
        {
          "output_type": "execute_result",
          "data": {
            "text/html": [
              "<div>\n",
              "<style scoped>\n",
              "    .dataframe tbody tr th:only-of-type {\n",
              "        vertical-align: middle;\n",
              "    }\n",
              "\n",
              "    .dataframe tbody tr th {\n",
              "        vertical-align: top;\n",
              "    }\n",
              "\n",
              "    .dataframe thead th {\n",
              "        text-align: right;\n",
              "    }\n",
              "</style>\n",
              "<table border=\"1\" class=\"dataframe\">\n",
              "  <thead>\n",
              "    <tr style=\"text-align: right;\">\n",
              "      <th></th>\n",
              "      <th>MQ-135</th>\n",
              "      <th>MQ-3</th>\n",
              "      <th>MQ-2</th>\n",
              "      <th>Class</th>\n",
              "    </tr>\n",
              "  </thead>\n",
              "  <tbody>\n",
              "    <tr>\n",
              "      <th>0</th>\n",
              "      <td>31.552586</td>\n",
              "      <td>65.500526</td>\n",
              "      <td>22.448242</td>\n",
              "      <td>0.0</td>\n",
              "    </tr>\n",
              "    <tr>\n",
              "      <th>1</th>\n",
              "      <td>35.665136</td>\n",
              "      <td>313.194731</td>\n",
              "      <td>54.714173</td>\n",
              "      <td>2.0</td>\n",
              "    </tr>\n",
              "    <tr>\n",
              "      <th>2</th>\n",
              "      <td>38.277724</td>\n",
              "      <td>285.608619</td>\n",
              "      <td>41.494006</td>\n",
              "      <td>2.0</td>\n",
              "    </tr>\n",
              "    <tr>\n",
              "      <th>3</th>\n",
              "      <td>33.289184</td>\n",
              "      <td>54.331195</td>\n",
              "      <td>20.797826</td>\n",
              "      <td>0.0</td>\n",
              "    </tr>\n",
              "    <tr>\n",
              "      <th>4</th>\n",
              "      <td>26.401582</td>\n",
              "      <td>59.861470</td>\n",
              "      <td>16.976235</td>\n",
              "      <td>0.0</td>\n",
              "    </tr>\n",
              "    <tr>\n",
              "      <th>5</th>\n",
              "      <td>42.643168</td>\n",
              "      <td>269.412715</td>\n",
              "      <td>36.679642</td>\n",
              "      <td>1.0</td>\n",
              "    </tr>\n",
              "    <tr>\n",
              "      <th>6</th>\n",
              "      <td>32.295039</td>\n",
              "      <td>56.071493</td>\n",
              "      <td>23.385944</td>\n",
              "      <td>0.0</td>\n",
              "    </tr>\n",
              "    <tr>\n",
              "      <th>7</th>\n",
              "      <td>48.313230</td>\n",
              "      <td>436.418057</td>\n",
              "      <td>61.506378</td>\n",
              "      <td>2.0</td>\n",
              "    </tr>\n",
              "    <tr>\n",
              "      <th>8</th>\n",
              "      <td>24.460798</td>\n",
              "      <td>61.024576</td>\n",
              "      <td>27.338001</td>\n",
              "      <td>0.0</td>\n",
              "    </tr>\n",
              "    <tr>\n",
              "      <th>9</th>\n",
              "      <td>30.434420</td>\n",
              "      <td>270.577579</td>\n",
              "      <td>46.882263</td>\n",
              "      <td>1.0</td>\n",
              "    </tr>\n",
              "  </tbody>\n",
              "</table>\n",
              "</div>"
            ],
            "text/plain": [
              "      MQ-135        MQ-3       MQ-2  Class\n",
              "0  31.552586   65.500526  22.448242    0.0\n",
              "1  35.665136  313.194731  54.714173    2.0\n",
              "2  38.277724  285.608619  41.494006    2.0\n",
              "3  33.289184   54.331195  20.797826    0.0\n",
              "4  26.401582   59.861470  16.976235    0.0\n",
              "5  42.643168  269.412715  36.679642    1.0\n",
              "6  32.295039   56.071493  23.385944    0.0\n",
              "7  48.313230  436.418057  61.506378    2.0\n",
              "8  24.460798   61.024576  27.338001    0.0\n",
              "9  30.434420  270.577579  46.882263    1.0"
            ]
          },
          "metadata": {
            "tags": []
          },
          "execution_count": 19
        }
      ]
    },
    {
      "cell_type": "code",
      "metadata": {
        "id": "HDMTy50AFijx",
        "colab_type": "code",
        "outputId": "55b7f71f-b697-4879-8680-2e2b3fb5771f",
        "colab": {
          "base_uri": "https://localhost:8080/",
          "height": 67
        }
      },
      "source": [
        "#Last column in dataframe is the target column which holds our labels. We do not want labels to be part of our X data which is our feature data so exclude that row in knn\n",
        "feature_data = df[['MQ-135', 'MQ-3', 'MQ-2']]\n",
        "target_data = df[['Class']]\n",
        "\n",
        "target_data_converted = target_data.to_numpy().ravel()\n",
        "\n",
        "#Split 30% of data as test data\n",
        "X_train, X_test, y_train, y_test = train_test_split(feature_data, target_data_converted, test_size=0.3, random_state=0)\n",
        "\n",
        "\n",
        "knn = neighbors.KNeighborsClassifier(n_neighbors=3) #try 3 neighbours as a test\n",
        "\n",
        "score = cross_val_score(knn, X_train, y_train, cv=10)\n",
        "\n",
        "print(\"Mean cross validation accuracy for k=3 is %f (+/- %0.2f)\" % (score.mean(), score.std() * 2))\n",
        "\n",
        "#Find the best k for 100 closest neighbours\n",
        "bestk=0\n",
        "for i in range(1,101):\n",
        "  knn = neighbors.KNeighborsClassifier(n_neighbors=i)\n",
        "  current_score = cross_val_score(knn, X_train, y_train, cv=10)\n",
        "  if current_score.mean() > bestk:\n",
        "    bestk = current_score.mean()\n",
        "    index = i\n",
        "\n",
        "#Use model on test set\n",
        "knn = neighbors.KNeighborsClassifier(n_neighbors=index)\n",
        "knn.fit(X_train, y_train)\n",
        "accuracy= accuracy_score(y_test, knn.predict(X_test))\n",
        "print('Best accuracy of',bestk,'is given by k =',index,'when up to 100 nearest neighbours are considered \\nTest set accuracy is:',accuracy*100,'%')"
      ],
      "execution_count": 0,
      "outputs": [
        {
          "output_type": "stream",
          "text": [
            "Mean cross validation accuracy for k=3 is 0.897619 (+/- 0.06)\n",
            "Best accuracy of 0.9166666666666666 is given by k = 32 when up to 100 nearest neighbours are considered \n",
            "Test set accuracy is: 90.55555555555556 %\n"
          ],
          "name": "stdout"
        }
      ]
    },
    {
      "cell_type": "code",
      "metadata": {
        "id": "zZ3I_K7aBPlW",
        "colab_type": "code",
        "outputId": "5bca3e42-4d3f-4c95-dc70-fdea1559ebdb",
        "colab": {
          "base_uri": "https://localhost:8080/",
          "height": 67
        }
      },
      "source": [
        "#Enter actual data to predict in the actual_data array\n",
        "#with format [MQ-135 reading, MQ-3 reading, MQ-2 reading]\n",
        "actual_data = np.array([[34,58,28],[35,222,40],[38,351,48]])\n",
        "predictions = knn.predict(actual_data)\n",
        "\n",
        "for i in range(len(predictions)):\n",
        "  if predictions[i] == 0:\n",
        "    print('Entry number', i+1,'is an unripe banana')\n",
        "  if predictions[i] == 1:\n",
        "    print('Entry number', i+1,'is a ripe banana')\n",
        "  if predictions[i] == 2:\n",
        "    print('Entry number', i+1,'is a rotten banana')  "
      ],
      "execution_count": 0,
      "outputs": [
        {
          "output_type": "stream",
          "text": [
            "Entry number 1 is an unripe banana\n",
            "Entry number 2 is a ripe banana\n",
            "Entry number 3 is a rotten banana\n"
          ],
          "name": "stdout"
        }
      ]
    }
  ]
}